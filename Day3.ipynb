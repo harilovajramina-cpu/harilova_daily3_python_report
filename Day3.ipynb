{
 "cells": [
  {
   "cell_type": "markdown",
   "id": "c84add4d-bf49-44c0-b804-2c1a7d24391a",
   "metadata": {},
   "source": [
    "###  Lists"
   ]
  },
  {
   "cell_type": "code",
   "execution_count": 2,
   "id": "467d7918-49c7-412c-836f-57de1dc0a568",
   "metadata": {},
   "outputs": [
    {
     "name": "stdout",
     "output_type": "stream",
     "text": [
      "[-7.0, -9.0, 9.0, 0.0, 4.0]\n",
      "============================= \n",
      "\n",
      "[-9.0, -0.5, 7.0, 0.5, 0.0]\n"
     ]
    }
   ],
   "source": [
    "voltage = [-7.0, -9.0, 9.0, 0.0, 4.0]\n",
    "\n",
    "courant = [-9.0, -0.5, 7.0, 0.5, 0.0]\n",
    "\n",
    "print(voltage)\n",
    "print(\"============================= \\n\")\n",
    "print(courant)"
   ]
  },
  {
   "cell_type": "code",
   "execution_count": 3,
   "id": "f3dc7f4e-a5dd-40ee-b06d-be2ead815b96",
   "metadata": {},
   "outputs": [
    {
     "data": {
      "text/plain": [
       "list"
      ]
     },
     "execution_count": 3,
     "metadata": {},
     "output_type": "execute_result"
    }
   ],
   "source": [
    "type(voltage)"
   ]
  },
  {
   "cell_type": "code",
   "execution_count": 4,
   "id": "44cbb8cb-145c-4d2c-ba72-d95d82964b33",
   "metadata": {},
   "outputs": [
    {
     "data": {
      "text/plain": [
       "list"
      ]
     },
     "execution_count": 4,
     "metadata": {},
     "output_type": "execute_result"
    }
   ],
   "source": [
    "type(courant)"
   ]
  },
  {
   "cell_type": "code",
   "execution_count": 5,
   "id": "6810aab1-65a6-41b2-9e09-13eabfa45a8b",
   "metadata": {},
   "outputs": [
    {
     "name": "stdout",
     "output_type": "stream",
     "text": [
      "Help on NoneType object:\n",
      "\n",
      "class NoneType(object)\n",
      " |  The type of the None singleton.\n",
      " |\n",
      " |  Methods defined here:\n",
      " |\n",
      " |  __bool__(self, /)\n",
      " |      True if self else False\n",
      " |\n",
      " |  __eq__(self, value, /)\n",
      " |      Return self==value.\n",
      " |\n",
      " |  __ge__(self, value, /)\n",
      " |      Return self>=value.\n",
      " |\n",
      " |  __gt__(self, value, /)\n",
      " |      Return self>value.\n",
      " |\n",
      " |  __hash__(self, /)\n",
      " |      Return hash(self).\n",
      " |\n",
      " |  __le__(self, value, /)\n",
      " |      Return self<=value.\n",
      " |\n",
      " |  __lt__(self, value, /)\n",
      " |      Return self<value.\n",
      " |\n",
      " |  __ne__(self, value, /)\n",
      " |      Return self!=value.\n",
      " |\n",
      " |  __repr__(self, /)\n",
      " |      Return repr(self).\n",
      " |\n",
      " |  ----------------------------------------------------------------------\n",
      " |  Static methods defined here:\n",
      " |\n",
      " |  __new__(*args, **kwargs)\n",
      " |      Create and return a new object.  See help(type) for accurate signature.\n",
      "\n"
     ]
    }
   ],
   "source": [
    "help(voltage.sort())"
   ]
  },
  {
   "cell_type": "code",
   "execution_count": 13,
   "id": "6a8c973e-babf-4b39-807a-b33418b65fb3",
   "metadata": {},
   "outputs": [
    {
     "data": {
      "text/plain": [
       "([[10, 2, 8], [8, 0, 9], [4, 3, 8]], [[[2, 3], [2, 4]], [[3, 4], [3, 6]]])"
      ]
     },
     "execution_count": 13,
     "metadata": {},
     "output_type": "execute_result"
    }
   ],
   "source": [
    "x = [[10,2,8],[8,0,9],[4,3,8]] # liste à deux dimensions (liste de listes)\n",
    "\n",
    "y = [[[2,3],[2,4]],[[3,4],[3,6]]] # liste à trois dimensions (liste de listes de listes)\n",
    "\n",
    "x,y"
   ]
  },
  {
   "cell_type": "code",
   "execution_count": 14,
   "id": "a89c4f5a-12ed-43ea-acdb-6a7cdc340207",
   "metadata": {},
   "outputs": [
    {
     "name": "stdout",
     "output_type": "stream",
     "text": [
      "['July', 'August', 'September', 14670, 45.487, 'October', 'November']\n"
     ]
    }
   ],
   "source": [
    "x = list(['July', 'August', 'September', 14670, 45.487, 'October', 'November']) # Definition of a list\n",
    "print(x) # Displays all the elements of the list x"
   ]
  },
  {
   "cell_type": "code",
   "execution_count": 25,
   "id": "a9af72f5-cd8d-441f-9f32-5d1e65cb58f0",
   "metadata": {},
   "outputs": [
    {
     "name": "stdout",
     "output_type": "stream",
     "text": [
      "['September', 14670, 45.487, 'October', 'November']\n",
      "================================================\n",
      "\t\n"
     ]
    }
   ],
   "source": [
    "print(x[2:]) # Returns all elements starting from index 2 (inclusive).\n",
    "print(\"================================================\")\n",
    "print('\\t')"
   ]
  },
  {
   "cell_type": "code",
   "execution_count": 16,
   "id": "f3b2c0be-b82b-4146-81b4-78b25f64af29",
   "metadata": {},
   "outputs": [
    {
     "name": "stdout",
     "output_type": "stream",
     "text": [
      "14670\n",
      "================================================\n",
      "\t\n"
     ]
    }
   ],
   "source": [
    "print(x[3]) # Returns the element at index 3 (fourth element of x): 1800\n",
    "print(\"================================================\")\n",
    "print('\\t')"
   ]
  },
  {
   "cell_type": "code",
   "execution_count": 27,
   "id": "1cd96012-ec92-4775-bdb3-22a1de9e3521",
   "metadata": {},
   "outputs": [
    {
     "name": "stdout",
     "output_type": "stream",
     "text": [
      "['August', 'September']\n",
      "================================================\n",
      "\t\n"
     ]
    }
   ],
   "source": [
    "print(x[1:3]) # Returns all elements between index 1 and index 3 (Note: element at index 3 is excluded)\n",
    "print(\"================================================\")\n",
    "print('\\t')\n"
   ]
  },
  {
   "cell_type": "code",
   "execution_count": 28,
   "id": "dfbb4398-3410-4129-9e97-9acecbf3d22a",
   "metadata": {},
   "outputs": [
    {
     "name": "stdout",
     "output_type": "stream",
     "text": [
      "['August', 14670, 'October']\n",
      "================================================\n",
      "\t\n"
     ]
    }
   ],
   "source": [
    "print(x[1:6:2]) # Returns all elements between index 1 and index 6 with a step of 2 elements each time ['Tuesday', 1800, 'Thursday'] (element at index 6 is excluded).\n",
    "print(\"================================================\")\n",
    "print('\\t')"
   ]
  },
  {
   "cell_type": "code",
   "execution_count": 29,
   "id": "bc31e67f-afed-4426-8179-fdcb1640f86a",
   "metadata": {},
   "outputs": [
    {
     "name": "stdout",
     "output_type": "stream",
     "text": [
      "July\n",
      "================================================\n",
      "\t\n"
     ]
    }
   ],
   "source": [
    "print(x[0]) # Returns the first element of x: 'Monday' (Note: indexing starts at 0)\n",
    "print(\"================================================\")\n",
    "print('\\t')"
   ]
  },
  {
   "cell_type": "code",
   "execution_count": 30,
   "id": "ab236a56-7f78-4302-aceb-318ec909fb1e",
   "metadata": {},
   "outputs": [
    {
     "name": "stdout",
     "output_type": "stream",
     "text": [
      "['July', 'August', 'September']\n",
      "================================================\n",
      "\t\n"
     ]
    }
   ],
   "source": [
    "print(x[:3]) # Returns all elements up to but not including index 3\n",
    "print(\"================================================\")\n",
    "print('\\t')"
   ]
  },
  {
   "cell_type": "code",
   "execution_count": 31,
   "id": "cae8e827-5961-4d46-b1d0-afb9a00d1ddb",
   "metadata": {},
   "outputs": [
    {
     "name": "stdout",
     "output_type": "stream",
     "text": [
      "November\n",
      "================================================\n",
      "\t\n"
     ]
    }
   ],
   "source": [
    "print(x[-1]) # Negative indexing, returns the last element of the list (equivalent to x[6])\n",
    "print(\"================================================\")\n",
    "print('\\t')"
   ]
  },
  {
   "cell_type": "code",
   "execution_count": 32,
   "id": "fd2fbafd-cbd6-43e3-8adb-dbd3eac55ba5",
   "metadata": {},
   "outputs": [
    {
     "name": "stdout",
     "output_type": "stream",
     "text": [
      "October\n",
      "================================================\n",
      "\t\n"
     ]
    }
   ],
   "source": [
    "print(x[-2]) # Negative indexing, returns the second to last element of the list (equivalent to x[5])\n",
    "print(\"================================================\")\n",
    "print('\\t')"
   ]
  },
  {
   "cell_type": "code",
   "execution_count": 33,
   "id": "de99036a-6741-42d1-8060-71f8ab134334",
   "metadata": {},
   "outputs": [
    {
     "name": "stdout",
     "output_type": "stream",
     "text": [
      "['July', 'September', 45.487, 'November']\n",
      "================================================\n",
      "\t\n"
     ]
    }
   ],
   "source": [
    "print(x[::2]) # Iterates through all elements between index 0 and the last index, returning every second element ['Monday', 'Wednesday', 20.357, 'Friday'].\n",
    "print(\"================================================\")\n",
    "print('\\t')"
   ]
  },
  {
   "cell_type": "code",
   "execution_count": 34,
   "id": "2cc5b466-bb6b-4ba5-8d4a-cff2211fc26e",
   "metadata": {},
   "outputs": [
    {
     "name": "stdout",
     "output_type": "stream",
     "text": [
      "['November', 'October', 45.487, 14670, 'September', 'August', 'July']\n"
     ]
    }
   ],
   "source": [
    "print(x[::-1]) # Returns a list containing all elements of x, rearranged from the last element to the first. This is a reverse of x. Returns ['Friday', 'Thursday', 20.357, 1800, 'Wednesday', 'Tuesday', 'Monday'].\n",
    "# The same result can be obtained by using x.reverse()\n",
    "x_rev = x.reverse()\n",
    "x_rev"
   ]
  },
  {
   "cell_type": "code",
   "execution_count": 35,
   "id": "c12118be-fa74-4d6e-91ef-a2831c5e222d",
   "metadata": {},
   "outputs": [],
   "source": [
    "x = [[3, 4, 5], [4, 5, 6], [5, 6, 7]]"
   ]
  },
  {
   "cell_type": "code",
   "execution_count": 36,
   "id": "f3ed3515-a922-406a-ae0d-27d0df1c4d30",
   "metadata": {},
   "outputs": [
    {
     "name": "stdout",
     "output_type": "stream",
     "text": [
      "[[3, 4, 5], [4, 5, 6], [5, 6, 7]]\n",
      "================================================\n",
      "\t\n"
     ]
    }
   ],
   "source": [
    "print(x)\n",
    "print(\"================================================\")\n",
    "print('\\t')"
   ]
  },
  {
   "cell_type": "code",
   "execution_count": 37,
   "id": "28f25b09-df1d-49cf-890d-8257667602ff",
   "metadata": {},
   "outputs": [
    {
     "name": "stdout",
     "output_type": "stream",
     "text": [
      "[3, 4, 5]\n",
      "================================================\n",
      "\t\n"
     ]
    }
   ],
   "source": [
    "print(x[0]) # Returns the first sublist [1, 2, 3]\n",
    "print(\"================================================\")\n",
    "print('\\t')"
   ]
  },
  {
   "cell_type": "code",
   "execution_count": 38,
   "id": "39bc06fa-5fc8-4b49-9b61-1c548a0a624f",
   "metadata": {},
   "outputs": [
    {
     "name": "stdout",
     "output_type": "stream",
     "text": [
      "3\n",
      "================================================\n",
      "\t\n"
     ]
    }
   ],
   "source": [
    "print(x[0][0]) # Returns the first element of the first sublist, which is 1\n",
    "print(\"================================================\")\n",
    "print('\\t')"
   ]
  },
  {
   "cell_type": "code",
   "execution_count": 39,
   "id": "594cfbb5-f092-4b12-a36f-df5deb7bdbca",
   "metadata": {},
   "outputs": [
    {
     "name": "stdout",
     "output_type": "stream",
     "text": [
      "[5, 6, 7]\n",
      "================================================\n",
      "\t\n"
     ]
    }
   ],
   "source": [
    "print(x[2]) # Returns the third sublist [3, 4, 5]\n",
    "print(\"================================================\")\n",
    "print('\\t')"
   ]
  },
  {
   "cell_type": "code",
   "execution_count": 40,
   "id": "9e42b65f-32b3-4f63-b972-aba419c45760",
   "metadata": {},
   "outputs": [
    {
     "name": "stdout",
     "output_type": "stream",
     "text": [
      "6\n",
      "================================================\n",
      "\t\n"
     ]
    }
   ],
   "source": [
    "print(x[2][1]) # Returns the element at index 1 of the third sublist, which is 4\n",
    "print(\"================================================\")\n",
    "print('\\t')"
   ]
  },
  {
   "cell_type": "code",
   "execution_count": 41,
   "id": "53439dff-4adc-4e60-bf50-1a122f33a47d",
   "metadata": {},
   "outputs": [
    {
     "name": "stdout",
     "output_type": "stream",
     "text": [
      "[[4, 5, 6], [5, 6, 7]]\n",
      "================================================\n",
      "\t\n"
     ]
    }
   ],
   "source": [
    "print(x[1:]) # Returns all sublists starting from index 1: [[2, 3, 4], [3, 4, 5]]\n",
    "print(\"================================================\")\n",
    "print('\\t')"
   ]
  },
  {
   "cell_type": "code",
   "execution_count": 42,
   "id": "ee77b037-3ef8-4c2c-9a78-30e044ecc9dc",
   "metadata": {},
   "outputs": [
    {
     "name": "stdout",
     "output_type": "stream",
     "text": [
      "[4, 5, 6]\n",
      "================================================\n",
      "\t\n"
     ]
    }
   ],
   "source": [
    "print(x[1:][0]) # Returns the first sublist from the sliced list: [2, 3, 4]\n",
    "print(\"================================================\")\n",
    "print('\\t')"
   ]
  },
  {
   "cell_type": "code",
   "execution_count": 43,
   "id": "dd5a361a-ba64-42e4-9c19-4b18fe43fe79",
   "metadata": {},
   "outputs": [
    {
     "name": "stdout",
     "output_type": "stream",
     "text": [
      "[5, 6, 7]\n",
      "================================================\n",
      "\t\n"
     ]
    }
   ],
   "source": [
    "print(x[-1]) # Returns the last sublist [3, 4, 5]\n",
    "print(\"================================================\")\n",
    "print('\\t')"
   ]
  },
  {
   "cell_type": "code",
   "execution_count": 44,
   "id": "6545b4c8-9678-44a3-bc3e-b07ce5f027fe",
   "metadata": {},
   "outputs": [
    {
     "name": "stdout",
     "output_type": "stream",
     "text": [
      "[4, 5]\n",
      "================================================\n",
      "\t\n"
     ]
    }
   ],
   "source": [
    "print(x[1][:2]) # Returns the first two elements of the second sublist: [2, 3]\n",
    "print(\"================================================\")\n",
    "print('\\t')"
   ]
  },
  {
   "cell_type": "code",
   "execution_count": 45,
   "id": "e245272a-0c4c-468d-a626-c3f64f81d7eb",
   "metadata": {},
   "outputs": [
    {
     "name": "stdout",
     "output_type": "stream",
     "text": [
      "[5, 6]\n"
     ]
    }
   ],
   "source": [
    "print(x[1][1:]) Returns elements from index 1 to the end of the second sublist: [3, 4]"
   ]
  },
  {
   "cell_type": "markdown",
   "id": "f4776ac2-e8bf-4b1e-b973-cb4926761f60",
   "metadata": {},
   "source": [
    "### The range() Function"
   ]
  },
  {
   "cell_type": "code",
   "execution_count": 48,
   "id": "9bc67533-62b3-4c51-9e48-25415b5bd5d0",
   "metadata": {},
   "outputs": [],
   "source": [
    "x = range(15) # Creates a sequence of integer values from 0 to 9"
   ]
  },
  {
   "cell_type": "code",
   "execution_count": 49,
   "id": "d239de8c-5bcc-4a79-87fa-0ee24a8e9c7d",
   "metadata": {},
   "outputs": [
    {
     "name": "stdout",
     "output_type": "stream",
     "text": [
      "range(0, 15)\n",
      "================================================\n",
      "\t\n"
     ]
    }
   ],
   "source": [
    "print(x)\n",
    "print(\"================================================\")\n",
    "print('\\t')"
   ]
  },
  {
   "cell_type": "code",
   "execution_count": 50,
   "id": "5585510f-965a-4e33-a1b1-ddd555aeb6f4",
   "metadata": {},
   "outputs": [],
   "source": [
    "x = range(2, 15) # Creates a sequence of integer values from 2 to 9"
   ]
  },
  {
   "cell_type": "code",
   "execution_count": 51,
   "id": "294f4f13-c823-4114-adba-9e3bc1877530",
   "metadata": {},
   "outputs": [
    {
     "name": "stdout",
     "output_type": "stream",
     "text": [
      "range(2, 15)\n",
      "================================================\n",
      "\t\n"
     ]
    }
   ],
   "source": [
    "print(x)\n",
    "print(\"================================================\")\n",
    "print('\\t')"
   ]
  },
  {
   "cell_type": "code",
   "execution_count": 52,
   "id": "d593b9e3-44dd-4389-8148-b65f6a337d23",
   "metadata": {},
   "outputs": [
    {
     "name": "stdout",
     "output_type": "stream",
     "text": [
      "range(1, 15, 3)\n"
     ]
    }
   ],
   "source": [
    "x = range(1, 15, 3) # Creates a sequence of integer values from 1 to 9 with a step of 2. It returns 1, 3, 5, 7, and 9\n",
    "print(x)"
   ]
  },
  {
   "cell_type": "code",
   "execution_count": 54,
   "id": "8593d30b-7a61-415f-95bd-ec1b69b53e44",
   "metadata": {},
   "outputs": [
    {
     "name": "stdout",
     "output_type": "stream",
     "text": [
      "[0, 1, 2, 3, 4, 5, 6, 7, 8, 9, 10, 11, 12, 13, 14]\n"
     ]
    }
   ],
   "source": [
    "x = range(15)\n",
    "\n",
    "print(list(x)) # Returns a list: values in square brackets [0, 1, 2, 3, 4, 5, 6, 7, 8, 9]\n"
   ]
  },
  {
   "cell_type": "markdown",
   "id": "f3bb30c9-3650-45df-b9ff-62854e8c7b38",
   "metadata": {},
   "source": [
    "### Operations on Lists"
   ]
  },
  {
   "cell_type": "code",
   "execution_count": 55,
   "id": "d88d2461-5d58-455a-b2ef-9034c99a8c4e",
   "metadata": {},
   "outputs": [
    {
     "name": "stdout",
     "output_type": "stream",
     "text": [
      "7\n"
     ]
    }
   ],
   "source": [
    "x = ['November', 'October', 45.487, 14670, 'September', 'August', 'July']\n",
    "\n",
    "print(len(x)) # returns 7"
   ]
  },
  {
   "cell_type": "code",
   "execution_count": 56,
   "id": "1ecd36cc-6cbe-49f3-88c2-f010750f6774",
   "metadata": {},
   "outputs": [
    {
     "name": "stdout",
     "output_type": "stream",
     "text": [
      "['lion', 'tiger', 'donkey', 'horse']\n"
     ]
    }
   ],
   "source": [
    "x = ['lion', 'tiger']\n",
    "y = ['donkey', 'horse']\n",
    "z = x + y\n",
    "print(z) # returns ['lion', 'tiger', 'donkey', 'horse']"
   ]
  },
  {
   "cell_type": "code",
   "execution_count": 57,
   "id": "56340758-b5ef-4b28-88b2-4bdead360772",
   "metadata": {},
   "outputs": [
    {
     "name": "stdout",
     "output_type": "stream",
     "text": [
      "['lion', 29, 58, 'tiger', 1800, 250, 'lion', 29, 58, 'tiger', 1800, 250, 'lion', 29, 58, 'tiger', 1800, 250]\n"
     ]
    }
   ],
   "source": [
    "x = ['lion', 29, 58, 'tiger', 1800, 250]\n",
    "y = x * 3\n",
    "print(y) # returns ['lion',29, 58, 'tiger', 1800, 250, 'lion',29, 58, 'tiger', 1800, 250, 'lion',29, 58, 'tiger', 1800, 250]"
   ]
  },
  {
   "cell_type": "code",
   "execution_count": 58,
   "id": "352c483d-7a75-4226-8387-b5d511ebca83",
   "metadata": {},
   "outputs": [
    {
     "name": "stdout",
     "output_type": "stream",
     "text": [
      "['July', 'August', 'September', 14770, 45.487, 'October', 'April']\n",
      "==================================================================\n",
      "\n",
      "['July', 'August', 'September', 14770, 45.487, 'October', 'April Fool']\n"
     ]
    }
   ],
   "source": [
    "x = ['July', 'August', 'September', 14670, 45.487, 'October', 'April']\n",
    "x[3] = x[3] + 100\n",
    "print(x) # returns ['July', 'August', 'September', 14670, 45.487, 'October', 'April']\n",
    "\n",
    "print(\"==================================================================\\n\")\n",
    "x[6] = x[6] + ' Fool' # Note the space in ' Saint', otherwise you'll get 'FridaySaint'.\n",
    "print(x) # returns ['Monday', 'Tuesday', 'Wednesday', 1900, 20.357, 'Thursday', 'Friday Saint']"
   ]
  },
  {
   "cell_type": "code",
   "execution_count": 59,
   "id": "5fd83dd0-9367-4094-8fc9-f72809e0ca0a",
   "metadata": {},
   "outputs": [
    {
     "name": "stdout",
     "output_type": "stream",
     "text": [
      "['July', 'August', 'September', 'October', 'November', 'December', 'January']\n"
     ]
    }
   ],
   "source": [
    "x = ['July', 'August', 'September', 'October', 'November']\n",
    "x.append('December')\n",
    "x.append('January')\n",
    "print(x)"
   ]
  },
  {
   "cell_type": "code",
   "execution_count": 61,
   "id": "ae04b560-26ad-446e-a43f-107c65bf691d",
   "metadata": {},
   "outputs": [
    {
     "name": "stdout",
     "output_type": "stream",
     "text": [
      "['July', 'August', 'September', 'October', 'November', 'December', 'January', 'February', 'March', 'April', 'Mey', 'June']\n"
     ]
    }
   ],
   "source": [
    "x.extend(['February','March','April','Mey','June'])\n",
    "print(x)"
   ]
  },
  {
   "cell_type": "code",
   "execution_count": 64,
   "id": "d244eaf2-baac-4715-b6a8-55e9126c5f64",
   "metadata": {},
   "outputs": [
    {
     "name": "stdout",
     "output_type": "stream",
     "text": [
      "X = {'k', 'y', 'z', 'x'}\n",
      "Y = {'y', 'z', 'm'}\n",
      "True\n",
      "False\n",
      "{'k', 'x'}\n",
      "{'m'}\n",
      "{'k', 'x', 'y', 'z', 'm'}\n",
      "{'y', 'z'}\n"
     ]
    }
   ],
   "source": [
    "X, Y = set('xyzk'), set('myzm')\n",
    "print(\"X =\", X) \n",
    "print(\"Y =\", Y)\n",
    "print('z' in X)  # True\n",
    "print('k' in Y)  # False\n",
    "print(X - Y)     \n",
    "print(Y - X)     \n",
    "print(X | Y)     \n",
    "print(X & Y)     "
   ]
  },
  {
   "cell_type": "code",
   "execution_count": 65,
   "id": "7f11d703-8faf-4dba-a2c2-147dd43d0cf8",
   "metadata": {},
   "outputs": [
    {
     "name": "stdout",
     "output_type": "stream",
     "text": [
      "X = {'k', 'y', 'z', 'x'}\n",
      "=========================================\n",
      "\n",
      "Y = {'y', 'z', 'm'}\n",
      "=========================================\n",
      "\n",
      "False\n",
      "=========================================\n",
      "\n",
      "False\n",
      "=========================================\n",
      "\n",
      "{'k', 'x'}\n",
      "=========================================\n",
      "\n",
      "{'m'}\n",
      "=========================================\n",
      "\n",
      "{'k', 'x', 'y', 'z', 'm'}\n",
      "=========================================\n",
      "\n",
      "{'y', 'z'}\n"
     ]
    }
   ],
   "source": [
    "X, Y = set('xyzk'), set('myzm')\n",
    "print(\"X =\", X) \n",
    "print(\"=========================================\\n\")\n",
    "\n",
    "print(\"Y =\", Y) \n",
    "print(\"=========================================\\n\")\n",
    "\n",
    "print('c' in X)  # True\n",
    "print(\"=========================================\\n\")\n",
    "\n",
    "print('a' in Y)  # False\n",
    "print(\"=========================================\\n\")\n",
    "\n",
    "print(X - Y)     \n",
    "print(\"=========================================\\n\")\n",
    "\n",
    "print(Y - X)    \n",
    "print(\"=========================================\\n\")\n",
    "\n",
    "print(X | Y)     \n",
    "print(\"=========================================\\n\")\n",
    "\n",
    "print(X & Y)     "
   ]
  },
  {
   "cell_type": "code",
   "execution_count": 69,
   "id": "a92b6481-c67b-44b6-a7a8-2b3953ddac93",
   "metadata": {},
   "outputs": [
    {
     "name": "stdout",
     "output_type": "stream",
     "text": [
      "=========================================\n",
      "\n",
      "dict_keys(['name', 'age', 'weight', 'height'])\n",
      "=========================================\n",
      "\n",
      "dict_values(['Jeannette', 45, 60, 1.5])\n",
      "=========================================\n",
      "\n",
      "Jeannette\n",
      "=========================================\n",
      "\n",
      "=========================================\n",
      "\n",
      "[45, 60, 1.5]\n",
      "=========================================\n",
      "\n",
      "45\n",
      "=========================================\n",
      "\n",
      "[45, 60]\n"
     ]
    }
   ],
   "source": [
    "X = {'name': 'Jeannette', 'age': 45, 'weight': 60, 'height': 1.5}\n",
    "print(\"=========================================\\n\")\n",
    "\n",
    "print(X.keys())  # returns ['name', 'age', 'weight', 'height']\n",
    "print(\"=========================================\\n\")\n",
    "\n",
    "print(X.values())  \n",
    "print(\"=========================================\\n\")\n",
    "\n",
    "print(X['name'])  # returns 'Jeanette'\n",
    "print(\"=========================================\\n\")\n",
    "\n",
    "Y = {'Jeannette': [45, 60, 1.5], 'Pauline': [20, 45, 1.80], 'Pierrette': [35, 85, 1.65]}\n",
    "print(\"=========================================\\n\")\n",
    "\n",
    "print(Y['Jeannette']) \n",
    "print(\"=========================================\\n\")\n",
    "\n",
    "print(Y['Jeannette'][0]) \n",
    "print(\"=========================================\\n\")\n",
    "\n",
    "print(Y['Jeannette'][0:2]) "
   ]
  },
  {
   "cell_type": "code",
   "execution_count": 70,
   "id": "8fe39eb2-dfea-4cb7-86d9-d16139fd91b5",
   "metadata": {},
   "outputs": [
    {
     "name": "stdout",
     "output_type": "stream",
     "text": [
      "{}\n",
      "=========================================\n",
      "\n",
      "{'name': 'Ben'}\n",
      "=========================================\n",
      "\n",
      "{'name': 'Ben', 'biometrics': [29, 52, 1.85]}\n",
      "=========================================\n",
      "\n",
      "{'name': 'Ben', 'biometrics': [35, 80, 1.8]}\n",
      "=========================================\n",
      "\n",
      "{'name': 'Ben', 'biometrics': [2, 80, 1.8]}\n",
      "=========================================\n",
      "\n",
      "{'Jeannette': [45, 60, 1.5], 'Pauline': [20, 45, 1.8], 'Pierrette': [35, 85, 1.65]}\n",
      "=========================================\n",
      "\n",
      "{'Pauline': [45, 1.8], 'Pierrette': [35, 85, 1.65]}\n"
     ]
    }
   ],
   "source": [
    "x = {} # Creates an empty dictionary. You could also use x = dict()\n",
    "print(x)\n",
    "print(\"=========================================\\n\")\n",
    "\n",
    "x['name'] = 'Ben' # Adds the key-value pair 'name' and 'Jean' to the initial dictionary x\n",
    "print(x)\n",
    "print(\"=========================================\\n\")\n",
    "\n",
    "x['biometrics'] = [29, 52, 1.85] # Adds the key-value pair 'biometrics' and [25, 70, 1.75] to dictionary x\n",
    "print(x)\n",
    "print(\"=========================================\\n\")\n",
    "\n",
    "x['biometrics'] = [35, 80, 1.80] # Modifies the values of the 'biometrics' key by redefining it\n",
    "print(x)\n",
    "print(\"=========================================\\n\")\n",
    "\n",
    "x['biometrics'][0] = 2 # Modifies the element at index 0 in the list of values corresponding to the 'biometrics' key (previously defined)\n",
    "print(x)\n",
    "print(\"=========================================\\n\")\n",
    "\n",
    "\n",
    "\n",
    "Y = {'Jeannette': [45, 60, 1.5], 'Pauline': [20, 45, 1.80], 'Pierrette': [35, 85, 1.65]}\n",
    "print(Y)\n",
    "print(\"=========================================\\n\")\n",
    "\n",
    "del Y['Jeannette'] # Deletes the key 'Jean' and all its corresponding values\n",
    "\n",
    "del Y['Pauline'][0] # Deletes the element at index 0 in the value sequence corresponding to the key 'Paul'. For a key with a single value, use del x['keyName'] where 'keyName' is the name of the key with the single value.\n",
    "\n",
    "\n",
    "print(Y)"
   ]
  },
  {
   "cell_type": "code",
   "execution_count": 71,
   "id": "e586f644-9a93-4ddb-afb8-25c6f322ad8e",
   "metadata": {},
   "outputs": [
    {
     "name": "stdout",
     "output_type": "stream",
     "text": [
      "{'Jeannette': [45, 60, 1.5], 'Pauline': [20, 45, 1.8], 'Pierrette': [35, 85, 1.65]}\n",
      "{'Pauline': [20, 45, 1.8], 'Pierrette': [35, 85, 1.65], 'John': [45, 60, 1.5]}\n"
     ]
    }
   ],
   "source": [
    "x = {'Jeannette': [45, 60, 1.5], 'Pauline': [20, 45, 1.80], 'Pierrette': [35, 85, 1.65]}\n",
    "print(x)\n",
    "\n",
    "x['John'] = x.pop('Jeannette') # Renames the key 'Jean' to 'John'\n",
    "print(x)"
   ]
  },
  {
   "cell_type": "code",
   "execution_count": null,
   "id": "21df4c60-db4a-4c2c-8c67-e6f180bf0346",
   "metadata": {},
   "outputs": [],
   "source": []
  }
 ],
 "metadata": {
  "kernelspec": {
   "display_name": "Python 3 (ipykernel)",
   "language": "python",
   "name": "python3"
  },
  "language_info": {
   "codemirror_mode": {
    "name": "ipython",
    "version": 3
   },
   "file_extension": ".py",
   "mimetype": "text/x-python",
   "name": "python",
   "nbconvert_exporter": "python",
   "pygments_lexer": "ipython3",
   "version": "3.13.7"
  }
 },
 "nbformat": 4,
 "nbformat_minor": 5
}
